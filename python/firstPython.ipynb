{
 "cells": [
  {
   "cell_type": "code",
   "execution_count": 3,
   "metadata": {
    "ExecuteTime": {
     "end_time": "2020-08-26T00:55:15.162128Z",
     "start_time": "2020-08-26T00:55:15.158106Z"
    },
    "scrolled": true
   },
   "outputs": [
    {
     "name": "stdout",
     "output_type": "stream",
     "text": [
      "['False', 'None', 'True', 'and', 'as', 'assert', 'async', 'await', 'break', 'class', 'continue', 'def', 'del', 'elif', 'else', 'except', 'finally', 'for', 'from', 'global', 'if', 'import', 'in', 'is', 'lambda', 'nonlocal', 'not', 'or', 'pass', 'raise', 'return', 'try', 'while', 'with', 'yield']\n"
     ]
    }
   ],
   "source": [
    "import keyword\n",
    "\n",
    "print(keyword.kwlist)"
   ]
  },
  {
   "cell_type": "code",
   "execution_count": 4,
   "metadata": {
    "ExecuteTime": {
     "end_time": "2020-08-26T01:05:53.707218Z",
     "start_time": "2020-08-26T01:05:53.703229Z"
    }
   },
   "outputs": [
    {
     "name": "stdout",
     "output_type": "stream",
     "text": [
      "안녕하세요\n",
      "저는 유영진 입니다.\n",
      "반갑습니다.\n"
     ]
    }
   ],
   "source": [
    "print(\"\"\"안녕하세요\n",
    "저는 유영진 입니다.\n",
    "반갑습니다.\"\"\")"
   ]
  },
  {
   "cell_type": "code",
   "execution_count": 6,
   "metadata": {
    "ExecuteTime": {
     "end_time": "2020-08-26T01:06:33.815111Z",
     "start_time": "2020-08-26T01:06:33.810125Z"
    }
   },
   "outputs": [
    {
     "name": "stdout",
     "output_type": "stream",
     "text": [
      "안녕하세요.\n",
      " 저는 유영진 입니다.\n",
      " 반갑습니다.\n"
     ]
    }
   ],
   "source": [
    "print(\"안녕하세요.\\n 저는 유영진 입니다.\\n 반갑습니다.\")"
   ]
  },
  {
   "cell_type": "code",
   "execution_count": 7,
   "metadata": {
    "ExecuteTime": {
     "end_time": "2020-08-26T01:10:05.513159Z",
     "start_time": "2020-08-26T01:10:05.509169Z"
    }
   },
   "outputs": [
    {
     "name": "stdout",
     "output_type": "stream",
     "text": [
      "안녕하세요!안녕하세요!안녕하세요!\n"
     ]
    }
   ],
   "source": [
    "print('안녕하세요!'*3)"
   ]
  },
  {
   "cell_type": "code",
   "execution_count": 10,
   "metadata": {
    "ExecuteTime": {
     "end_time": "2020-08-26T01:11:39.312769Z",
     "start_time": "2020-08-26T01:11:39.302797Z"
    }
   },
   "outputs": [
    {
     "ename": "TypeError",
     "evalue": "can only concatenate str (not \"int\") to str",
     "output_type": "error",
     "traceback": [
      "\u001b[1;31m---------------------------------------------------------------------------\u001b[0m",
      "\u001b[1;31mTypeError\u001b[0m                                 Traceback (most recent call last)",
      "\u001b[1;32m<ipython-input-10-598da996a6f6>\u001b[0m in \u001b[0;36m<module>\u001b[1;34m\u001b[0m\n\u001b[1;32m----> 1\u001b[1;33m \u001b[1;34m'안녕하세요'\u001b[0m \u001b[1;33m+\u001b[0m \u001b[1;36m1\u001b[0m\u001b[1;33m\u001b[0m\u001b[1;33m\u001b[0m\u001b[0m\n\u001b[0m",
      "\u001b[1;31mTypeError\u001b[0m: can only concatenate str (not \"int\") to str"
     ]
    }
   ],
   "source": [
    "'안녕하세요' + 1"
   ]
  },
  {
   "cell_type": "code",
   "execution_count": 11,
   "metadata": {
    "ExecuteTime": {
     "end_time": "2020-08-26T01:15:08.254884Z",
     "start_time": "2020-08-26T01:15:08.250896Z"
    }
   },
   "outputs": [],
   "source": [
    "hello = '안녕하세요'"
   ]
  },
  {
   "cell_type": "code",
   "execution_count": 12,
   "metadata": {
    "ExecuteTime": {
     "end_time": "2020-08-26T01:15:26.753161Z",
     "start_time": "2020-08-26T01:15:26.748174Z"
    }
   },
   "outputs": [
    {
     "data": {
      "text/plain": [
       "str"
      ]
     },
     "execution_count": 12,
     "metadata": {},
     "output_type": "execute_result"
    }
   ],
   "source": [
    "type(hello)"
   ]
  },
  {
   "cell_type": "code",
   "execution_count": 15,
   "metadata": {
    "ExecuteTime": {
     "end_time": "2020-08-26T01:18:48.984181Z",
     "start_time": "2020-08-26T01:18:48.979194Z"
    }
   },
   "outputs": [
    {
     "name": "stdout",
     "output_type": "stream",
     "text": [
      "안\n",
      "녕\n",
      "하\n",
      "세\n",
      "요\n"
     ]
    }
   ],
   "source": [
    "print(hello[0])\n",
    "print(hello[1])\n",
    "print(hello[2])\n",
    "print(hello[3])\n",
    "print(hello[4])\n",
    "# print(hello[5])"
   ]
  },
  {
   "cell_type": "code",
   "execution_count": 19,
   "metadata": {
    "ExecuteTime": {
     "end_time": "2020-08-26T01:20:55.042770Z",
     "start_time": "2020-08-26T01:20:55.037784Z"
    }
   },
   "outputs": [
    {
     "name": "stdout",
     "output_type": "stream",
     "text": [
      "요\n",
      "세\n",
      "하\n",
      "녕\n",
      "안\n"
     ]
    }
   ],
   "source": [
    "print(hello[-1])\n",
    "print(hello[-2])\n",
    "print(hello[-3])\n",
    "print(hello[-4])\n",
    "print(hello[-5])\n",
    "#print(hello[-6])"
   ]
  },
  {
   "cell_type": "code",
   "execution_count": 28,
   "metadata": {
    "ExecuteTime": {
     "end_time": "2020-08-26T01:41:37.876038Z",
     "start_time": "2020-08-26T01:41:37.871050Z"
    }
   },
   "outputs": [
    {
     "name": "stdout",
     "output_type": "stream",
     "text": [
      "안녕하세요\n",
      "녕하세\n",
      "안녕하세\n",
      "녕하세요\n",
      "\n"
     ]
    }
   ],
   "source": [
    "print(hello)\n",
    "print(hello[1:4])\n",
    "print(hello[:4])\n",
    "print(hello[1:])\n",
    "print(hello[10:])"
   ]
  },
  {
   "cell_type": "code",
   "execution_count": 33,
   "metadata": {
    "ExecuteTime": {
     "end_time": "2020-08-26T01:48:58.784802Z",
     "start_time": "2020-08-26T01:48:58.777819Z"
    }
   },
   "outputs": [
    {
     "data": {
      "text/plain": [
       "3"
      ]
     },
     "execution_count": 33,
     "metadata": {},
     "output_type": "execute_result"
    }
   ],
   "source": [
    "10//3   # 정수 연산"
   ]
  },
  {
   "cell_type": "code",
   "execution_count": 35,
   "metadata": {
    "ExecuteTime": {
     "end_time": "2020-08-26T01:50:32.665695Z",
     "start_time": "2020-08-26T01:50:32.658716Z"
    }
   },
   "outputs": [
    {
     "data": {
      "text/plain": [
       "16"
      ]
     },
     "execution_count": 35,
     "metadata": {},
     "output_type": "execute_result"
    }
   ],
   "source": [
    "2**4   # 제곱 연산자"
   ]
  },
  {
   "cell_type": "code",
   "execution_count": 37,
   "metadata": {
    "ExecuteTime": {
     "end_time": "2020-08-26T01:58:03.730539Z",
     "start_time": "2020-08-26T01:57:59.435992Z"
    }
   },
   "outputs": [
    {
     "name": "stdout",
     "output_type": "stream",
     "text": [
      "숫자를 입력해주세요100\n"
     ]
    }
   ],
   "source": [
    "num = input('숫자를 입력해주세요')"
   ]
  },
  {
   "cell_type": "code",
   "execution_count": 39,
   "metadata": {
    "ExecuteTime": {
     "end_time": "2020-08-26T01:58:31.746312Z",
     "start_time": "2020-08-26T01:58:31.740327Z"
    }
   },
   "outputs": [
    {
     "data": {
      "text/plain": [
       "str"
      ]
     },
     "execution_count": 39,
     "metadata": {},
     "output_type": "execute_result"
    }
   ],
   "source": [
    "type(num)"
   ]
  },
  {
   "cell_type": "code",
   "execution_count": 43,
   "metadata": {
    "ExecuteTime": {
     "end_time": "2020-08-26T02:07:43.484446Z",
     "start_time": "2020-08-26T02:07:33.270609Z"
    }
   },
   "outputs": [
    {
     "name": "stdout",
     "output_type": "stream",
     "text": [
      "첫번째 숫자를 입력해주세요 >> test\n"
     ]
    },
    {
     "ename": "ValueError",
     "evalue": "could not convert string to float: 'test'",
     "output_type": "error",
     "traceback": [
      "\u001b[1;31m---------------------------------------------------------------------------\u001b[0m",
      "\u001b[1;31mValueError\u001b[0m                                Traceback (most recent call last)",
      "\u001b[1;32m<ipython-input-43-6582abf96966>\u001b[0m in \u001b[0;36m<module>\u001b[1;34m\u001b[0m\n\u001b[0;32m      2\u001b[0m \u001b[1;31m#input_b = float(input('두번째 숫자를 입력해주세요 >> '))\u001b[0m\u001b[1;33m\u001b[0m\u001b[1;33m\u001b[0m\u001b[1;33m\u001b[0m\u001b[0m\n\u001b[0;32m      3\u001b[0m \u001b[1;33m\u001b[0m\u001b[0m\n\u001b[1;32m----> 4\u001b[1;33m \u001b[0minput_a\u001b[0m \u001b[1;33m=\u001b[0m \u001b[0mfloat\u001b[0m\u001b[1;33m(\u001b[0m\u001b[0minput\u001b[0m\u001b[1;33m(\u001b[0m\u001b[1;34m'첫번째 숫자를 입력해주세요 >> '\u001b[0m\u001b[1;33m)\u001b[0m\u001b[1;33m)\u001b[0m\u001b[1;33m\u001b[0m\u001b[1;33m\u001b[0m\u001b[0m\n\u001b[0m\u001b[0;32m      5\u001b[0m \u001b[0minput_b\u001b[0m \u001b[1;33m=\u001b[0m \u001b[0mint\u001b[0m\u001b[1;33m(\u001b[0m\u001b[0minput\u001b[0m\u001b[1;33m(\u001b[0m\u001b[1;34m'두번째 숫자를 입력해주세요 >> '\u001b[0m\u001b[1;33m)\u001b[0m\u001b[1;33m)\u001b[0m\u001b[1;33m\u001b[0m\u001b[1;33m\u001b[0m\u001b[0m\n\u001b[0;32m      6\u001b[0m \u001b[1;33m\u001b[0m\u001b[0m\n",
      "\u001b[1;31mValueError\u001b[0m: could not convert string to float: 'test'"
     ]
    }
   ],
   "source": [
    "#input_a = float(input('첫번째 숫자를 입력해주세요 >> '))\n",
    "#input_b = float(input('두번째 숫자를 입력해주세요 >> '))\n",
    "\n",
    "input_a = float(input('첫번째 숫자를 입력해주세요 >> '))\n",
    "input_b = int(input('두번째 숫자를 입력해주세요 >> '))\n",
    "\n",
    "print(\"+\", input_a+input_b)\n",
    "print(\"-\", input_a-input_b)\n",
    "print(\"*\", input_a*input_b)\n",
    "print(\"/\", input_a/input_b)\n",
    "print(\"//\", input_a//input_b)\n",
    "print(\"%\", input_a%input_b)"
   ]
  },
  {
   "cell_type": "code",
   "execution_count": 45,
   "metadata": {
    "ExecuteTime": {
     "end_time": "2020-08-26T02:14:50.771768Z",
     "start_time": "2020-08-26T02:14:50.765784Z"
    }
   },
   "outputs": [
    {
     "name": "stdout",
     "output_type": "stream",
     "text": [
      "Rest URL : http//localhost:8088/member\n"
     ]
    }
   ],
   "source": [
    "url_str = 'http//{}:{}/{}'.format('localhost', 8088, 'member')\n",
    "print('Rest URL :', url_str)"
   ]
  },
  {
   "cell_type": "code",
   "execution_count": 49,
   "metadata": {
    "ExecuteTime": {
     "end_time": "2020-08-26T02:59:29.106148Z",
     "start_time": "2020-08-26T02:59:26.530889Z"
    },
    "code_folding": [
     3
    ]
   },
   "outputs": [
    {
     "name": "stdout",
     "output_type": "stream",
     "text": [
      "정수를 입력해주세요 >>10\n",
      "10 는 양의 정수입니다.\n",
      "110\n"
     ]
    }
   ],
   "source": [
    "number = int(input('정수를 입력해주세요 >>'))\n",
    "\n",
    "# 양의 정수 판별\n",
    "if number>0 :\n",
    "    print(number, '는 양의 정수입니다.')\n",
    "    number += 100\n",
    "    print(number)\n",
    "    \n",
    "# 음의 정수 판별\n",
    "if number<0 :\n",
    "    print(number, '는 음의 정수입니다.')\n",
    "    \n",
    "# 숫자 0 판별\n",
    "if number==0 :\n",
    "    print(number, '는 0입니다.')"
   ]
  },
  {
   "cell_type": "code",
   "execution_count": 50,
   "metadata": {
    "ExecuteTime": {
     "end_time": "2020-08-26T03:07:47.806254Z",
     "start_time": "2020-08-26T03:07:47.803264Z"
    }
   },
   "outputs": [],
   "source": [
    "import datetime"
   ]
  },
  {
   "cell_type": "code",
   "execution_count": 52,
   "metadata": {
    "ExecuteTime": {
     "end_time": "2020-08-26T03:09:42.728710Z",
     "start_time": "2020-08-26T03:09:42.724719Z"
    }
   },
   "outputs": [],
   "source": [
    "now = datetime.datetime.now()"
   ]
  },
  {
   "cell_type": "code",
   "execution_count": 56,
   "metadata": {
    "ExecuteTime": {
     "end_time": "2020-08-26T03:13:05.566889Z",
     "start_time": "2020-08-26T03:13:05.559906Z"
    }
   },
   "outputs": [],
   "source": [
    "now_str = '{}년 {}월 {}일 {}:{}:{}'.format(now.year, now.month, now.day, now.hour, now.minute, now.second)\n",
    "now_str2 = '{}.{}.{} {}:{}:{}'.format(now.year, now.month, now.day, now.hour, now.minute, now.second)"
   ]
  },
  {
   "cell_type": "code",
   "execution_count": 57,
   "metadata": {
    "ExecuteTime": {
     "end_time": "2020-08-26T03:13:07.741810Z",
     "start_time": "2020-08-26T03:13:07.737818Z"
    }
   },
   "outputs": [
    {
     "name": "stdout",
     "output_type": "stream",
     "text": [
      "2020년 8월 26일 12:9:42\n",
      "2020.8.26 12:9:42\n"
     ]
    }
   ],
   "source": [
    "print(now_str)\n",
    "print(now_str2)"
   ]
  },
  {
   "cell_type": "code",
   "execution_count": 58,
   "metadata": {
    "ExecuteTime": {
     "end_time": "2020-08-26T03:16:11.338042Z",
     "start_time": "2020-08-26T03:16:11.332057Z"
    }
   },
   "outputs": [
    {
     "name": "stdout",
     "output_type": "stream",
     "text": [
      "뜨거운 여름입니다.\n"
     ]
    }
   ],
   "source": [
    "if  3 <= now.month <= 5 :\n",
    "    print('봄이 왔어요')\n",
    "    \n",
    "if 6 <= now.month <=9 :\n",
    "    print('뜨거운 여름입니다.')"
   ]
  },
  {
   "cell_type": "code",
   "execution_count": 61,
   "metadata": {
    "ExecuteTime": {
     "end_time": "2020-08-26T03:43:39.715657Z",
     "start_time": "2020-08-26T03:43:37.392483Z"
    }
   },
   "outputs": [
    {
     "name": "stdout",
     "output_type": "stream",
     "text": [
      "정수를 입력해주세요 >>> 10\n",
      "짝수\n"
     ]
    }
   ],
   "source": [
    "# 숫자 입력\n",
    "number = input('정수를 입력해주세요 >>> ')\n",
    "last_number = number[-1] \n",
    "\n",
    "# 짝수 조건\n",
    "if last_number in '02468':   # 10 ?\n",
    "    print('짝수')\n",
    "    \n",
    "if last_number in '1357':\n",
    "    print('홀수')\n",
    "    \n",
    "#if last_number == '0':\n",
    "#    print(0)"
   ]
  },
  {
   "cell_type": "code",
   "execution_count": 65,
   "metadata": {
    "ExecuteTime": {
     "end_time": "2020-08-26T03:46:46.818663Z",
     "start_time": "2020-08-26T03:46:44.864048Z"
    }
   },
   "outputs": [
    {
     "name": "stdout",
     "output_type": "stream",
     "text": [
      "정수입력 >>12\n",
      "짝수\n"
     ]
    }
   ],
   "source": [
    "# 숫자 입력\n",
    "number = int(input('정수입력 >>'))\n",
    "\n",
    "if number%2 == 0 :\n",
    "    print('짝수')\n",
    "else :\n",
    "    print('홀수')"
   ]
  },
  {
   "cell_type": "code",
   "execution_count": 69,
   "metadata": {
    "ExecuteTime": {
     "end_time": "2020-08-26T03:50:36.796005Z",
     "start_time": "2020-08-26T03:50:33.926904Z"
    }
   },
   "outputs": [
    {
     "name": "stdout",
     "output_type": "stream",
     "text": [
      "정수입력 >>21\n",
      "홀수 입니다.\n"
     ]
    }
   ],
   "source": [
    "# 숫자 입력\n",
    "number = int(input('정수입력 >>'))\n",
    "\n",
    "if number == 0 :\n",
    "    print('0 입니다.')\n",
    "elif number%2 == 0 :   # else if()\n",
    "    print('짝수 입니다.')\n",
    "#elif number%2 != 0 :\n",
    "else :\n",
    "    print('홀수 입니다.')\n"
   ]
  },
  {
   "cell_type": "code",
   "execution_count": 77,
   "metadata": {
    "ExecuteTime": {
     "end_time": "2020-08-26T03:57:05.514424Z",
     "start_time": "2020-08-26T03:57:05.508439Z"
    }
   },
   "outputs": [
    {
     "name": "stdout",
     "output_type": "stream",
     "text": [
      "False\n",
      "False\n",
      "False\n"
     ]
    }
   ],
   "source": [
    "if 0 :\n",
    "    print(True)\n",
    "else : \n",
    "    print(False)\n",
    "    \n",
    "if '' :\n",
    "    print(True)\n",
    "else : \n",
    "    print(False)\n",
    "\n",
    "# {} []\n",
    "    \n",
    "list_number = []\n",
    "    \n",
    "if list_number :\n",
    "    print(True)\n",
    "else : \n",
    "    print(False)"
   ]
  },
  {
   "cell_type": "code",
   "execution_count": 80,
   "metadata": {
    "ExecuteTime": {
     "end_time": "2020-08-26T04:01:18.714659Z",
     "start_time": "2020-08-26T04:01:18.709674Z"
    }
   },
   "outputs": [],
   "source": [
    "number = 20\n",
    "\n",
    "if number >= 19 : \n",
    "    pass    # 처리 구문이 없을때 에러를 발생시키지 않도록 합니다.\n",
    "else :\n",
    "    print('투표가 불가능합니다.')\n"
   ]
  },
  {
   "cell_type": "code",
   "execution_count": 9,
   "metadata": {
    "ExecuteTime": {
     "end_time": "2020-08-27T01:25:29.515272Z",
     "start_time": "2020-08-27T01:25:29.507260Z"
    }
   },
   "outputs": [
    {
     "name": "stdout",
     "output_type": "stream",
     "text": [
      "문자열\n",
      "자\n",
      "[1, 10, 100, 1000]\n",
      "100\n",
      "<class 'list'> [1000, 10.5, True, False, {}, '문자열', [1, 10, 100, 1000]]\n"
     ]
    }
   ],
   "source": [
    "array = [10, 10.5, True, False, {}, '문자열', [1,10,100,1000]] # list 선언\n",
    "\n",
    "array[0] = 1000 # list 요소 참조\n",
    "\n",
    "print(array[-2]) # 인덱스 역순 참조\n",
    "print(array[-2][1])\n",
    "\n",
    "print(array[-1])\n",
    "print(array[-1][2])\n",
    "\n",
    "print(type(array), array)"
   ]
  },
  {
   "cell_type": "code",
   "execution_count": 5,
   "metadata": {
    "ExecuteTime": {
     "end_time": "2020-08-27T01:17:38.513303Z",
     "start_time": "2020-08-27T01:17:38.508314Z"
    }
   },
   "outputs": [
    {
     "data": {
      "text/plain": [
       "[10, 10.5, True, False]"
      ]
     },
     "execution_count": 5,
     "metadata": {},
     "output_type": "execute_result"
    }
   ],
   "source": [
    "array[0:4]"
   ]
  },
  {
   "cell_type": "code",
   "execution_count": 16,
   "metadata": {
    "ExecuteTime": {
     "end_time": "2020-08-27T01:57:22.400129Z",
     "start_time": "2020-08-27T01:57:22.393149Z"
    }
   },
   "outputs": [
    {
     "name": "stdout",
     "output_type": "stream",
     "text": [
      "[1, 2, 3]\n",
      "[1, 2, 3, 1, 2, 3]\n",
      "[1, 2, 3, 1, 2, 3, 1, 2, 3, 1, 2, 3]\n",
      "[1, 2, 3, 4, 5]\n",
      "[1, 2, 1000, 3, 4, 5]\n",
      "[2, 1000, 3, 4, 5]\n",
      "[2, 3, 4, 5]\n"
     ]
    }
   ],
   "source": [
    "list_a = [1,2,3]\n",
    "\n",
    "print(list_a)\n",
    "print(list_a+list_a)  # list의 + 연산자\n",
    "print(list_a*4)       # list의 * 연산자\n",
    "\n",
    "# list에 요소 추가 : append - 요소를 맨 뒤에 추가\n",
    "list_a.append(4)\n",
    "list_a.append(5)\n",
    "\n",
    "print(list_a)\n",
    "\n",
    "# list에 요소 추가 : insert -특정 위치에 요소를 삽입\n",
    "list_a.insert(2, 1000)\n",
    "\n",
    "print(list_a)\n",
    "\n",
    "# list 요소의 삭제 : del 사용\n",
    "del list_a[0]\n",
    "\n",
    "print(list_a)\n",
    "\n",
    "# list 요소 삭제 : pop() 사용\n",
    "list_a.pop(1)\n",
    "\n",
    "print(list_a)\n",
    "\n",
    "\n"
   ]
  },
  {
   "cell_type": "code",
   "execution_count": 20,
   "metadata": {
    "ExecuteTime": {
     "end_time": "2020-08-27T02:03:19.735559Z",
     "start_time": "2020-08-27T02:03:19.730572Z"
    }
   },
   "outputs": [
    {
     "name": "stdout",
     "output_type": "stream",
     "text": [
      "[1, 2, 3, 9, 0, 1, 2]\n",
      "[9, 0, 1, 2]\n",
      "[9]\n"
     ]
    }
   ],
   "source": [
    "list_b = [1,2,3,4,5,6,7,8,9,0,1,2]\n",
    "\n",
    "# list의 범위안의 요소 삭제\n",
    "del list_b[3:8]\n",
    "print(list_b)\n",
    "\n",
    "del list_b[:3]\n",
    "print(list_b)\n",
    "\n",
    "del list_b[1:]\n",
    "print(list_b)\n"
   ]
  },
  {
   "cell_type": "code",
   "execution_count": 22,
   "metadata": {
    "ExecuteTime": {
     "end_time": "2020-08-27T02:06:42.021782Z",
     "start_time": "2020-08-27T02:06:42.017794Z"
    }
   },
   "outputs": [
    {
     "name": "stdout",
     "output_type": "stream",
     "text": [
      "[1, 1, 2]\n",
      "[]\n"
     ]
    }
   ],
   "source": [
    "list_c = [1,2,1,2]\n",
    "\n",
    "list_c.remove(2)\n",
    "print(list_c)\n",
    "\n",
    "list_c.clear()\n",
    "print(list_c)"
   ]
  },
  {
   "cell_type": "code",
   "execution_count": 25,
   "metadata": {
    "ExecuteTime": {
     "end_time": "2020-08-27T02:11:19.601720Z",
     "start_time": "2020-08-27T02:11:19.597730Z"
    }
   },
   "outputs": [
    {
     "name": "stdout",
     "output_type": "stream",
     "text": [
      "True\n",
      "True\n"
     ]
    }
   ],
   "source": [
    "list_d = [10, 1000, 10000, 3000]\n",
    "\n",
    "# list의 요소 확인 연산자 : in  -> 찬고자하는 요소값 in list\n",
    "print(10 in list_d \n",
    "print(105 not in list_d)"
   ]
  },
  {
   "cell_type": "code",
   "execution_count": 28,
   "metadata": {
    "ExecuteTime": {
     "end_time": "2020-08-27T02:20:09.546460Z",
     "start_time": "2020-08-27T02:20:09.542470Z"
    }
   },
   "outputs": [
    {
     "name": "stdout",
     "output_type": "stream",
     "text": [
      "list_a : [2, 3, 4, 5]\n",
      "0\n",
      "1\n",
      "2\n",
      "3\n",
      "4\n",
      "5\n",
      "6\n",
      "7\n",
      "8\n",
      "9\n"
     ]
    }
   ],
   "source": [
    "# 반복문 : for\n",
    "for i in range(10):\n",
    "    print(i)"
   ]
  },
  {
   "cell_type": "code",
   "execution_count": 29,
   "metadata": {
    "ExecuteTime": {
     "end_time": "2020-08-27T02:20:23.587730Z",
     "start_time": "2020-08-27T02:20:23.583739Z"
    }
   },
   "outputs": [
    {
     "name": "stdout",
     "output_type": "stream",
     "text": [
      "list_a : [2, 3, 4, 5]\n",
      "2\n",
      "3\n",
      "4\n",
      "5\n"
     ]
    }
   ],
   "source": [
    "# for 문을 이용한 list의 일괄 참조\n",
    "print('list_a :', list_a)\n",
    "for n in list_a:\n",
    "    print(n)"
   ]
  },
  {
   "cell_type": "code",
   "execution_count": 43,
   "metadata": {
    "ExecuteTime": {
     "end_time": "2020-08-27T03:14:05.748372Z",
     "start_time": "2020-08-27T03:14:05.742388Z"
    }
   },
   "outputs": [
    {
     "name": "stdout",
     "output_type": "stream",
     "text": [
      "<class 'dict'> {'name': '어벤져스', 'cast': ['아이언맨', '토르', '헐크']}\n"
     ]
    }
   ],
   "source": [
    "#딕셔너리 : 키 : 값 형태로 데이터의 구조를 만드는 형식 { 키:값, 키:값,.....}\n",
    "\n",
    "dic_movie = {\n",
    "    'name' : '어벤져스',\n",
    "    'cast' : ['아이언맨', '토르', '헐크']\n",
    "}\n",
    "\n",
    "print(type(dic_movie), dic_movie)"
   ]
  },
  {
   "cell_type": "code",
   "execution_count": 45,
   "metadata": {
    "ExecuteTime": {
     "end_time": "2020-08-27T03:14:40.651447Z",
     "start_time": "2020-08-27T03:14:40.646461Z"
    },
    "code_folding": []
   },
   "outputs": [
    {
     "name": "stdout",
     "output_type": "stream",
     "text": [
      "영화 제목 : 어벤져스\n",
      "출연 :  ['아이언맨', '토르', '헐크']\n",
      "\t 아이언맨\n",
      "\t 토르\n",
      "\t 헐크\n"
     ]
    }
   ],
   "source": [
    "# dict의 참조 : 키값으로 값을 참조\n",
    "print('영화 제목 :', dic_movie['name'])\n",
    "print('출연 : ', dic_movie['cast'])\n",
    "\n",
    "dic_movie['runtime'] = 120\n",
    "\n",
    "#print(dic_movie)\n",
    "\n",
    "#for c in dic_movie['cast']:\n",
    "for c in dic_movie.get('cast'):\n",
    "    print('\\t',c)"
   ]
  },
  {
   "cell_type": "code",
   "execution_count": 46,
   "metadata": {
    "ExecuteTime": {
     "end_time": "2020-08-27T03:15:07.588530Z",
     "start_time": "2020-08-27T03:15:07.584540Z"
    }
   },
   "outputs": [
    {
     "name": "stdout",
     "output_type": "stream",
     "text": [
      "영화 제목 : 어벤져스\n",
      "출연 :  ['아이언맨', '토르', '헐크']\n"
     ]
    }
   ],
   "source": [
    "# dict의 참조 : 키값으로 값을 참조\n",
    "print('영화 제목 :', dic_movie['name'])\n",
    "print('출연 : ', dic_movie['cast'])"
   ]
  },
  {
   "cell_type": "code",
   "execution_count": 60,
   "metadata": {
    "ExecuteTime": {
     "end_time": "2020-08-27T03:19:46.349855Z",
     "start_time": "2020-08-27T03:19:46.345866Z"
    }
   },
   "outputs": [
    {
     "name": "stdout",
     "output_type": "stream",
     "text": [
      "\t 아이언맨\n",
      "\t 토르\n",
      "\t 헐크\n"
     ]
    }
   ],
   "source": [
    "dic_movie['runtime'] = 120\n",
    "\n",
    "#print(dic_movie)\n",
    "\n",
    "#for c in dic_movie['cast']:\n",
    "for c in dic_movie.get('cast'):\n",
    "    print('\\t',c)"
   ]
  },
  {
   "cell_type": "code",
   "execution_count": 54,
   "metadata": {
    "ExecuteTime": {
     "end_time": "2020-08-27T03:17:40.116372Z",
     "start_time": "2020-08-27T03:17:40.111387Z"
    }
   },
   "outputs": [
    {
     "name": "stdout",
     "output_type": "stream",
     "text": [
      "상영시간 : 120 분\n"
     ]
    }
   ],
   "source": [
    "#print('상영시간 :', dic_movie['runtime'], '분')   \n",
    "print('상영시간 :', dic_movie.get('runtime'), '분')   "
   ]
  },
  {
   "cell_type": "code",
   "execution_count": 61,
   "metadata": {
    "ExecuteTime": {
     "end_time": "2020-08-27T03:19:51.012091Z",
     "start_time": "2020-08-27T03:19:51.008101Z"
    }
   },
   "outputs": [
    {
     "name": "stdout",
     "output_type": "stream",
     "text": [
      "{'name': '어벤져스', 'cast': ['아이언맨', '토르', '헐크']}\n",
      "None\n",
      "상영 시간 정보가 없습니다.\n"
     ]
    }
   ],
   "source": [
    "# dict의 요소 삭제\n",
    "del dic_movie['runtime']\n",
    "\n",
    "print(dic_movie)\n",
    "\n",
    "run_time = dic_movie.get('runtime')\n",
    "print(run_time)\n",
    "\n",
    "if not run_time :\n",
    "    print('상영 시간 정보가 없습니다.')\n",
    "\n",
    "    "
   ]
  },
  {
   "cell_type": "code",
   "execution_count": 70,
   "metadata": {
    "ExecuteTime": {
     "end_time": "2020-08-27T04:03:37.163418Z",
     "start_time": "2020-08-27T04:03:37.156437Z"
    }
   },
   "outputs": [
    {
     "name": "stdout",
     "output_type": "stream",
     "text": [
      "1\n",
      "2\n",
      "1\n",
      "2\n",
      "[2, 2]\n"
     ]
    }
   ],
   "source": [
    "list_aa = [1,2,1,2]\n",
    "\n",
    "cnt = 0   # 초기식 : 변수\n",
    "\n",
    "while cnt<10 :  # 반복의 조건\n",
    "    #print(cnt)\n",
    "    cnt += 1    # 탈출의 조건\n",
    "    \n",
    "cnt = 0\n",
    "while cnt < len(list_aa):\n",
    "    print(list_aa[cnt])\n",
    "    cnt += 1\n",
    "    \n",
    "while 1 in list_aa :\n",
    "    list_aa.remove(1)\n",
    "    \n",
    "print(list_aa)"
   ]
  },
  {
   "cell_type": "code",
   "execution_count": 1,
   "metadata": {
    "ExecuteTime": {
     "end_time": "2020-08-28T01:07:45.222239Z",
     "start_time": "2020-08-28T01:07:45.218250Z"
    }
   },
   "outputs": [],
   "source": [
    "exam_list = ['요소A', '요소B', '요소C']"
   ]
  },
  {
   "cell_type": "code",
   "execution_count": 3,
   "metadata": {
    "ExecuteTime": {
     "end_time": "2020-08-28T01:10:35.155928Z",
     "start_time": "2020-08-28T01:10:35.150942Z"
    }
   },
   "outputs": [
    {
     "name": "stdout",
     "output_type": "stream",
     "text": [
      "0번째의 요소값은 요소A입니다.\n",
      "1번째의 요소값은 요소B입니다.\n",
      "2번째의 요소값은 요소C입니다.\n"
     ]
    }
   ],
   "source": [
    "# index 변수를 사용\n",
    "i=0  # index로 사용할 변수 선언, 초기화\n",
    "for item in exam_list:\n",
    "    print('{}번째의 요소값은 {}입니다.'.format(i, item))\n",
    "    i += 1"
   ]
  },
  {
   "cell_type": "code",
   "execution_count": 4,
   "metadata": {
    "ExecuteTime": {
     "end_time": "2020-08-28T01:12:54.748728Z",
     "start_time": "2020-08-28T01:12:54.743742Z"
    }
   },
   "outputs": [
    {
     "name": "stdout",
     "output_type": "stream",
     "text": [
      "0번째의 요소값은 요소A입니다.\n",
      "1번째의 요소값은 요소B입니다.\n",
      "2번째의 요소값은 요소C입니다.\n"
     ]
    }
   ],
   "source": [
    "# range함수 이용\n",
    "\n",
    "for i in range(len(exam_list)) :  # 0~N-1\n",
    "    print('{}번째의 요소값은 {}입니다.'.format(i, exam_list[i]))"
   ]
  },
  {
   "cell_type": "code",
   "execution_count": 8,
   "metadata": {
    "ExecuteTime": {
     "end_time": "2020-08-28T01:17:31.883587Z",
     "start_time": "2020-08-28T01:17:31.878600Z"
    }
   },
   "outputs": [
    {
     "name": "stdout",
     "output_type": "stream",
     "text": [
      "exam_list : ['요소A', '요소B', '요소C']\n",
      "enumerate(exam_list) : <enumerate object at 0x0000025CF803B048>\n",
      "enumerate(exam_list) : [(0, '요소A'), (1, '요소B'), (2, '요소C')]\n",
      "0번째의 요소값은 요소A입니다.\n",
      "1번째의 요소값은 요소B입니다.\n",
      "2번째의 요소값은 요소C입니다.\n"
     ]
    }
   ],
   "source": [
    "# enumerate 함수 이용\n",
    "\n",
    "print('exam_list :', exam_list)\n",
    "print('enumerate(exam_list) :', enumerate(exam_list))\n",
    "print('enumerate(exam_list) :', list(enumerate(exam_list)))\n",
    "\n",
    "for i, val in enumerate(exam_list):\n",
    "    print('{}번째의 요소값은 {}입니다.'.format(i, val))"
   ]
  },
  {
   "cell_type": "code",
   "execution_count": 12,
   "metadata": {
    "ExecuteTime": {
     "end_time": "2020-08-28T01:38:48.196504Z",
     "start_time": "2020-08-28T01:38:48.191518Z"
    }
   },
   "outputs": [
    {
     "name": "stdout",
     "output_type": "stream",
     "text": [
      "exam_dic.items() : dict_items([('key1', 'value1'), ('key2', 'value2'), ('key3', 'value3')])\n",
      "키값 : key1  ->  값 : value1\n",
      "키값 : key2  ->  값 : value2\n",
      "키값 : key3  ->  값 : value3\n"
     ]
    }
   ],
   "source": [
    "exam_dic = {\n",
    "    'key1' : 'value1',\n",
    "    'key2' : 'value2',\n",
    "    'key3' : 'value3'\n",
    "}\n",
    "\n",
    "# item() 함수 사용 : list 형식으로 일괄 참조가 가능\n",
    "print('exam_dic.items() :', exam_dic.items())\n",
    "\n",
    "for key, val in exam_dic.items():\n",
    "    print('키값 : {}  ->  값 : {}'.format(key, val))"
   ]
  },
  {
   "cell_type": "code",
   "execution_count": 13,
   "metadata": {
    "ExecuteTime": {
     "end_time": "2020-08-28T01:48:20.798722Z",
     "start_time": "2020-08-28T01:48:20.792740Z"
    }
   },
   "outputs": [
    {
     "name": "stdout",
     "output_type": "stream",
     "text": [
      "[0, 2, 4, 6, 8, 10, 12, 14, 16, 18]\n"
     ]
    }
   ],
   "source": [
    "# [ for in ]\n",
    "array = [i for i in range(0, 20, 2)]\n",
    "print(array)"
   ]
  },
  {
   "cell_type": "code",
   "execution_count": 16,
   "metadata": {
    "ExecuteTime": {
     "end_time": "2020-08-28T01:52:08.295578Z",
     "start_time": "2020-08-28T01:52:08.290590Z"
    }
   },
   "outputs": [
    {
     "name": "stdout",
     "output_type": "stream",
     "text": [
      "['사과', '바나나', '초콜릿', '체리']\n"
     ]
    }
   ],
   "source": [
    "# [ for in if]\n",
    "array_fruit = ['사과', '바나나', '초콜릿', '체리']\n",
    "array_output = [ fruit for fruit in array_fruit if fruit != '초콜릿']\n",
    "print(array_fruit)"
   ]
  },
  {
   "cell_type": "code",
   "execution_count": 17,
   "metadata": {
    "ExecuteTime": {
     "end_time": "2020-08-28T02:05:13.334837Z",
     "start_time": "2020-08-28T02:05:13.330844Z"
    }
   },
   "outputs": [
    {
     "name": "stdout",
     "output_type": "stream",
     "text": [
      "안녕하세요\n",
      "안녕하세요\n",
      "안녕하세요\n"
     ]
    }
   ],
   "source": [
    "# 사용자 정의 함수 : def 키워드를 이용해서 함수 정의\n",
    "\n",
    "def print_3_times():\n",
    "    print('안녕하세요')\n",
    "    print('안녕하세요')\n",
    "    print('안녕하세요')\n",
    "\n",
    "print_3_times()"
   ]
  },
  {
   "cell_type": "code",
   "execution_count": 19,
   "metadata": {
    "ExecuteTime": {
     "end_time": "2020-08-28T02:07:32.107027Z",
     "start_time": "2020-08-28T02:07:32.103040Z"
    }
   },
   "outputs": [],
   "source": [
    "def print_n_times(value, n): # value : 출력할 데이터, n : 출력 횟수\n",
    "    for i in range(n):\n",
    "        print(value)\n"
   ]
  },
  {
   "cell_type": "code",
   "execution_count": 21,
   "metadata": {
    "ExecuteTime": {
     "end_time": "2020-08-28T02:08:16.750930Z",
     "start_time": "2020-08-28T02:08:16.746941Z"
    }
   },
   "outputs": [
    {
     "name": "stdout",
     "output_type": "stream",
     "text": [
      "안녕\n",
      "안녕\n",
      "안녕\n",
      "안녕\n",
      "안녕\n"
     ]
    }
   ],
   "source": [
    "print_n_times('안녕', 5)"
   ]
  },
  {
   "cell_type": "code",
   "execution_count": 22,
   "metadata": {
    "ExecuteTime": {
     "end_time": "2020-08-28T02:09:37.606832Z",
     "start_time": "2020-08-28T02:09:37.595893Z"
    }
   },
   "outputs": [
    {
     "ename": "TypeError",
     "evalue": "print_n_times() takes 2 positional arguments but 3 were given",
     "output_type": "error",
     "traceback": [
      "\u001b[1;31m---------------------------------------------------------------------------\u001b[0m",
      "\u001b[1;31mTypeError\u001b[0m                                 Traceback (most recent call last)",
      "\u001b[1;32m<ipython-input-22-0eb837ce0a1d>\u001b[0m in \u001b[0;36m<module>\u001b[1;34m\u001b[0m\n\u001b[1;32m----> 1\u001b[1;33m \u001b[0mprint_n_times\u001b[0m\u001b[1;33m(\u001b[0m\u001b[1;36m1\u001b[0m\u001b[1;33m,\u001b[0m\u001b[1;36m2\u001b[0m\u001b[1;33m,\u001b[0m\u001b[1;36m3\u001b[0m\u001b[1;33m)\u001b[0m\u001b[1;33m\u001b[0m\u001b[1;33m\u001b[0m\u001b[0m\n\u001b[0m",
      "\u001b[1;31mTypeError\u001b[0m: print_n_times() takes 2 positional arguments but 3 were given"
     ]
    }
   ],
   "source": [
    "print_n_times(1,2,3)"
   ]
  },
  {
   "cell_type": "code",
   "execution_count": 26,
   "metadata": {
    "ExecuteTime": {
     "end_time": "2020-08-28T02:18:26.455798Z",
     "start_time": "2020-08-28T02:18:26.450808Z"
    }
   },
   "outputs": [],
   "source": [
    "def print_n_times(n, *values) :\n",
    "    # n 번 반복\n",
    "    for i in range(n):\n",
    "        \n",
    "        # 전달 받은 가변 매개변수(list)\n",
    "        for val in values :\n",
    "            print(val)\n",
    "        \n",
    "        print('------------------')\n",
    "    \n",
    "    print('함수의 끝')"
   ]
  },
  {
   "cell_type": "code",
   "execution_count": 27,
   "metadata": {
    "ExecuteTime": {
     "end_time": "2020-08-28T02:18:29.991274Z",
     "start_time": "2020-08-28T02:18:29.987283Z"
    }
   },
   "outputs": [
    {
     "name": "stdout",
     "output_type": "stream",
     "text": [
      "손흥민\n",
      "메시\n",
      "날두\n",
      "------------------\n",
      "손흥민\n",
      "메시\n",
      "날두\n",
      "------------------\n",
      "손흥민\n",
      "메시\n",
      "날두\n",
      "------------------\n",
      "함수의 끝\n"
     ]
    }
   ],
   "source": [
    "# 함수 호출\n",
    "print_n_times(3, '손흥민', '메시', '날두')"
   ]
  },
  {
   "cell_type": "code",
   "execution_count": 28,
   "metadata": {
    "ExecuteTime": {
     "end_time": "2020-08-28T02:44:01.149549Z",
     "start_time": "2020-08-28T02:44:01.144560Z"
    }
   },
   "outputs": [],
   "source": [
    "def print_ntimes(value, n=2):\n",
    "    \n",
    "    for i in range(n):\n",
    "        print(value)"
   ]
  },
  {
   "cell_type": "code",
   "execution_count": 31,
   "metadata": {
    "ExecuteTime": {
     "end_time": "2020-08-28T02:44:37.178920Z",
     "start_time": "2020-08-28T02:44:37.174931Z"
    }
   },
   "outputs": [
    {
     "name": "stdout",
     "output_type": "stream",
     "text": [
      "안녕\n",
      "안녕\n"
     ]
    }
   ],
   "source": [
    "print_ntimes('안녕')"
   ]
  },
  {
   "cell_type": "code",
   "execution_count": 32,
   "metadata": {
    "ExecuteTime": {
     "end_time": "2020-08-28T02:49:02.888824Z",
     "start_time": "2020-08-28T02:49:02.884835Z"
    }
   },
   "outputs": [],
   "source": [
    "def print_ntimes2(*value, n=2):\n",
    "    \n",
    "    for i in range(n):\n",
    "        print(value)"
   ]
  },
  {
   "cell_type": "code",
   "execution_count": 39,
   "metadata": {
    "ExecuteTime": {
     "end_time": "2020-08-28T02:51:28.400011Z",
     "start_time": "2020-08-28T02:51:28.396056Z"
    }
   },
   "outputs": [
    {
     "name": "stdout",
     "output_type": "stream",
     "text": [
      "('안녕', '파이썬', '함수', 3)\n",
      "('안녕', '파이썬', '함수', 3)\n",
      "('안녕', '파이썬', '함수', 3)\n"
     ]
    }
   ],
   "source": [
    "#print_ntimes2('안녕', '파이썬', '함수')\n",
    "print_ntimes2('안녕', '파이썬', '함수', 3, n=3)"
   ]
  },
  {
   "cell_type": "code",
   "execution_count": 43,
   "metadata": {
    "ExecuteTime": {
     "end_time": "2020-08-28T02:54:31.546787Z",
     "start_time": "2020-08-28T02:54:31.542797Z"
    }
   },
   "outputs": [
    {
     "name": "stdout",
     "output_type": "stream",
     "text": [
      "안녕\t안녕\t안녕\t안녕\t안녕\t"
     ]
    }
   ],
   "source": [
    "for i in range(5):\n",
    "    print('안녕', end='\\t')"
   ]
  },
  {
   "cell_type": "code",
   "execution_count": 47,
   "metadata": {
    "ExecuteTime": {
     "end_time": "2020-08-28T03:08:51.664035Z",
     "start_time": "2020-08-28T03:08:51.659048Z"
    }
   },
   "outputs": [],
   "source": [
    "def sum_all(start=0, end=100, step=1):\n",
    "    \n",
    "    # 합의 값을 담을 변수 선언\n",
    "    output = 0\n",
    "    \n",
    "    # 반복 : 범위의 값을 더한다.\n",
    "    for i in range(start, end+1, step):\n",
    "        output += i\n",
    "    \n",
    "    # 값을 반환\n",
    "    return output"
   ]
  },
  {
   "cell_type": "code",
   "execution_count": 51,
   "metadata": {
    "ExecuteTime": {
     "end_time": "2020-08-28T03:10:32.481309Z",
     "start_time": "2020-08-28T03:10:32.477320Z"
    }
   },
   "outputs": [
    {
     "name": "stdout",
     "output_type": "stream",
     "text": [
      "55\n",
      "5050\n",
      "55\n",
      "30\n"
     ]
    }
   ],
   "source": [
    "print(sum_all(0, 10, 1))\n",
    "print(sum_all())\n",
    "print(sum_all(end=10))\n",
    "print(sum_all(end=10, step=2))"
   ]
  },
  {
   "cell_type": "code",
   "execution_count": 54,
   "metadata": {
    "ExecuteTime": {
     "end_time": "2020-08-28T03:18:55.780761Z",
     "start_time": "2020-08-28T03:18:55.777769Z"
    }
   },
   "outputs": [],
   "source": [
    "# tuple : 리스트와 유사하고 한번 정의된 데이터는 변경이 불가 (상수 유사)\n",
    "tuple_number = (10, 20, 30)"
   ]
  },
  {
   "cell_type": "code",
   "execution_count": 57,
   "metadata": {
    "ExecuteTime": {
     "end_time": "2020-08-28T03:20:05.388098Z",
     "start_time": "2020-08-28T03:20:05.384110Z"
    }
   },
   "outputs": [
    {
     "name": "stdout",
     "output_type": "stream",
     "text": [
      "<class 'tuple'>\n"
     ]
    }
   ],
   "source": [
    "print(type(tuple_number))"
   ]
  },
  {
   "cell_type": "code",
   "execution_count": 58,
   "metadata": {
    "ExecuteTime": {
     "end_time": "2020-08-28T03:20:07.607107Z",
     "start_time": "2020-08-28T03:20:07.604082Z"
    }
   },
   "outputs": [
    {
     "name": "stdout",
     "output_type": "stream",
     "text": [
      "10\n"
     ]
    }
   ],
   "source": [
    "print(tuple_number[0])"
   ]
  },
  {
   "cell_type": "code",
   "execution_count": 59,
   "metadata": {
    "ExecuteTime": {
     "end_time": "2020-08-28T03:20:11.511991Z",
     "start_time": "2020-08-28T03:20:11.500393Z"
    }
   },
   "outputs": [
    {
     "ename": "TypeError",
     "evalue": "'tuple' object does not support item assignment",
     "output_type": "error",
     "traceback": [
      "\u001b[1;31m---------------------------------------------------------------------------\u001b[0m",
      "\u001b[1;31mTypeError\u001b[0m                                 Traceback (most recent call last)",
      "\u001b[1;32m<ipython-input-59-c22d0398e69c>\u001b[0m in \u001b[0;36m<module>\u001b[1;34m\u001b[0m\n\u001b[1;32m----> 1\u001b[1;33m \u001b[0mtuple_number\u001b[0m\u001b[1;33m[\u001b[0m\u001b[1;36m0\u001b[0m\u001b[1;33m]\u001b[0m \u001b[1;33m=\u001b[0m \u001b[1;36m100\u001b[0m\u001b[1;33m\u001b[0m\u001b[1;33m\u001b[0m\u001b[0m\n\u001b[0m",
      "\u001b[1;31mTypeError\u001b[0m: 'tuple' object does not support item assignment"
     ]
    }
   ],
   "source": [
    "tuple_number[0] = 100  # 정된 값은 변경 불가"
   ]
  },
  {
   "cell_type": "code",
   "execution_count": 60,
   "metadata": {
    "ExecuteTime": {
     "end_time": "2020-08-28T03:25:57.092658Z",
     "start_time": "2020-08-28T03:25:57.089666Z"
    }
   },
   "outputs": [],
   "source": [
    "a, b = 10, 20"
   ]
  },
  {
   "cell_type": "code",
   "execution_count": 61,
   "metadata": {
    "ExecuteTime": {
     "end_time": "2020-08-28T03:26:14.438153Z",
     "start_time": "2020-08-28T03:26:14.434162Z"
    }
   },
   "outputs": [
    {
     "name": "stdout",
     "output_type": "stream",
     "text": [
      "a= 10\n",
      "b= 20\n"
     ]
    }
   ],
   "source": [
    "print('a=', a)\n",
    "print('b=', b)"
   ]
  },
  {
   "cell_type": "code",
   "execution_count": 62,
   "metadata": {
    "ExecuteTime": {
     "end_time": "2020-08-28T03:26:30.872361Z",
     "start_time": "2020-08-28T03:26:30.868372Z"
    }
   },
   "outputs": [],
   "source": [
    "a, b = b, a  # 값의 이동(변경)"
   ]
  },
  {
   "cell_type": "code",
   "execution_count": 64,
   "metadata": {
    "ExecuteTime": {
     "end_time": "2020-08-28T03:44:11.168826Z",
     "start_time": "2020-08-28T03:44:11.164836Z"
    }
   },
   "outputs": [
    {
     "name": "stdout",
     "output_type": "stream",
     "text": [
      "a= 20\n",
      "b= 10\n"
     ]
    }
   ],
   "source": [
    "print('a=', a)\n",
    "print('b=', b)"
   ]
  },
  {
   "cell_type": "code",
   "execution_count": 65,
   "metadata": {
    "ExecuteTime": {
     "end_time": "2020-08-28T03:44:44.445494Z",
     "start_time": "2020-08-28T03:44:44.441505Z"
    }
   },
   "outputs": [],
   "source": [
    "def test():\n",
    "    return (10, 20)"
   ]
  },
  {
   "cell_type": "code",
   "execution_count": 66,
   "metadata": {
    "ExecuteTime": {
     "end_time": "2020-08-28T03:44:59.876860Z",
     "start_time": "2020-08-28T03:44:59.872870Z"
    }
   },
   "outputs": [],
   "source": [
    "num1, num2 = test()\n",
    "# num1, num2 = (10, 20)"
   ]
  },
  {
   "cell_type": "code",
   "execution_count": 67,
   "metadata": {
    "ExecuteTime": {
     "end_time": "2020-08-28T03:45:14.793283Z",
     "start_time": "2020-08-28T03:45:14.789293Z"
    }
   },
   "outputs": [
    {
     "name": "stdout",
     "output_type": "stream",
     "text": [
      "10\n",
      "20\n"
     ]
    }
   ],
   "source": [
    "print(num1)\n",
    "print(num2)"
   ]
  },
  {
   "cell_type": "code",
   "execution_count": 75,
   "metadata": {
    "ExecuteTime": {
     "end_time": "2020-08-28T04:04:07.680187Z",
     "start_time": "2020-08-28T04:04:07.676196Z"
    }
   },
   "outputs": [],
   "source": [
    "# 람다식으로 함수 선언\n",
    "power = lambda x: x*x\n",
    "under_3 = lambda x: 4>x>1"
   ]
  },
  {
   "cell_type": "code",
   "execution_count": 69,
   "metadata": {
    "ExecuteTime": {
     "end_time": "2020-08-28T03:59:05.361737Z",
     "start_time": "2020-08-28T03:59:05.358743Z"
    }
   },
   "outputs": [],
   "source": [
    "list_test = [1,2,3,4,5]"
   ]
  },
  {
   "cell_type": "code",
   "execution_count": 77,
   "metadata": {
    "ExecuteTime": {
     "end_time": "2020-08-28T04:05:21.646687Z",
     "start_time": "2020-08-28T04:05:21.640700Z"
    }
   },
   "outputs": [
    {
     "name": "stdout",
     "output_type": "stream",
     "text": [
      "<class 'map'>\n",
      "<map object at 0x0000025CF75AFEC8>\n",
      "[1, 4, 9, 16, 25]\n"
     ]
    }
   ],
   "source": [
    "#output_map = map(power, list_test)\n",
    "output_map = map(lambda x: x*x, list_test)\n",
    "print(type(output_map))\n",
    "print(output_map)\n",
    "print(list(output_map))"
   ]
  },
  {
   "cell_type": "code",
   "execution_count": 78,
   "metadata": {
    "ExecuteTime": {
     "end_time": "2020-08-28T04:05:24.292766Z",
     "start_time": "2020-08-28T04:05:24.285785Z"
    }
   },
   "outputs": [
    {
     "name": "stdout",
     "output_type": "stream",
     "text": [
      "<class 'filter'>\n",
      "<filter object at 0x0000025CF7EC7988>\n",
      "[2, 3]\n"
     ]
    }
   ],
   "source": [
    "#output_filter = filter(under_3, list_test)\n",
    "output_filter = filter(lambda x: 4>x>1, list_test)\n",
    "print(type(output_filter))\n",
    "print(output_filter)\n",
    "print(list(output_filter))"
   ]
  },
  {
   "cell_type": "code",
   "execution_count": null,
   "metadata": {},
   "outputs": [],
   "source": []
  },
  {
   "cell_type": "code",
   "execution_count": null,
   "metadata": {},
   "outputs": [],
   "source": []
  },
  {
   "cell_type": "code",
   "execution_count": null,
   "metadata": {},
   "outputs": [],
   "source": []
  }
 ],
 "metadata": {
  "kernelspec": {
   "display_name": "Python 3",
   "language": "python",
   "name": "python3"
  },
  "language_info": {
   "codemirror_mode": {
    "name": "ipython",
    "version": 3
   },
   "file_extension": ".py",
   "mimetype": "text/x-python",
   "name": "python",
   "nbconvert_exporter": "python",
   "pygments_lexer": "ipython3",
   "version": "3.7.6"
  },
  "toc": {
   "base_numbering": 1,
   "nav_menu": {},
   "number_sections": true,
   "sideBar": true,
   "skip_h1_title": false,
   "title_cell": "Table of Contents",
   "title_sidebar": "Contents",
   "toc_cell": false,
   "toc_position": {},
   "toc_section_display": true,
   "toc_window_display": false
  },
  "varInspector": {
   "cols": {
    "lenName": 16,
    "lenType": 16,
    "lenVar": 40
   },
   "kernels_config": {
    "python": {
     "delete_cmd_postfix": "",
     "delete_cmd_prefix": "del ",
     "library": "var_list.py",
     "varRefreshCmd": "print(var_dic_list())"
    },
    "r": {
     "delete_cmd_postfix": ") ",
     "delete_cmd_prefix": "rm(",
     "library": "var_list.r",
     "varRefreshCmd": "cat(var_dic_list()) "
    }
   },
   "types_to_exclude": [
    "module",
    "function",
    "builtin_function_or_method",
    "instance",
    "_Feature"
   ],
   "window_display": false
  }
 },
 "nbformat": 4,
 "nbformat_minor": 4
}
